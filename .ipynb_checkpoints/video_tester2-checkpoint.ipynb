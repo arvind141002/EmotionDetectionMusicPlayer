{
 "cells": [
  {
   "cell_type": "code",
   "execution_count": 2,
   "id": "837b4496",
   "metadata": {},
   "outputs": [],
   "source": [
    "import cv2\n",
    "import numpy as np\n",
    "from keras.models import model_from_json\n",
    "from statistics import mode"
   ]
  },
  {
   "cell_type": "code",
   "execution_count": 3,
   "id": "4b8beab0",
   "metadata": {},
   "outputs": [],
   "source": [
    "model = model_from_json(open('model.json',\"r\").read())\n",
    "model.load_weights('model_weights.h5')"
   ]
  },
  {
   "cell_type": "code",
   "execution_count": 4,
   "id": "258d67a5",
   "metadata": {},
   "outputs": [],
   "source": [
    "face_cascade = cv2.CascadeClassifier('haarcascade_frontalface_default.xml')\n",
    "emotions = []"
   ]
  },
  {
   "cell_type": "code",
   "execution_count": 5,
   "id": "0f8f5735",
   "metadata": {},
   "outputs": [],
   "source": [
    "def get_image():\n",
    "    # Initialize video capture object\n",
    "    cap = cv2.VideoCapture(0)\n",
    "    # Loop to continuously capture frames\n",
    "    while True:\n",
    "        # Read a frame from the video feed\n",
    "        ret, frame = cap.read()\n",
    "        # Display the frame\n",
    "        cv2.imshow('frame', frame)\n",
    "        # Wait for key press\n",
    "        key = cv2.waitKey(1) & 0xFF\n",
    "        # If 'q' key is pressed, exit the loop\n",
    "        if key == ord('q'):\n",
    "            break\n",
    "        # If 's' key is pressed, take a picture and process it\n",
    "        elif key == ord('s'):\n",
    "            # Convert image to grayscale\n",
    "            gray = cv2.cvtColor(frame, cv2.COLOR_BGR2GRAY)\n",
    "            # Detect faces in the image\n",
    "            faces = face_cascade.detectMultiScale(gray, scaleFactor=1.1, minNeighbors=5, minSize=(30, 30))\n",
    "            # Loop through each face in the image\n",
    "            for (x, y, w, h) in faces:\n",
    "                # Crop the face region from the image\n",
    "                face_roi = gray[y:y+h, x:x+w]\n",
    "                # Resize the face region to match the input size of the model\n",
    "                face_roi = cv2.resize(face_roi, (48, 48))\n",
    "                # Reshape the face region to match the input shape of the model\n",
    "                face_roi = np.reshape(face_roi, (1, 48, 48, 1))\n",
    "                # Normalize the pixel values to be between 0 and 1\n",
    "                face_roi = face_roi / 255.0\n",
    "                # Predict the emotion for the face using the pre-trained model\n",
    "                emotion = model.predict(face_roi)\n",
    "                # Get the index of the maximum value in the predicted emotion vector\n",
    "                emotion_index = np.argmax(emotion)\n",
    "                # Map the index to the corresponding emotion label\n",
    "                if emotion_index == 0:\n",
    "                    emotion_label = 'Angry'\n",
    "                elif emotion_index == 1:\n",
    "                    emotion_label = 'Disgust'\n",
    "                elif emotion_index == 2:\n",
    "                    emotion_label = 'Fear'\n",
    "                elif emotion_index == 3:\n",
    "                    emotion_label = 'Happy'\n",
    "                elif emotion_index == 4:\n",
    "                    emotion_label = 'Sad'\n",
    "                elif emotion_index == 5:\n",
    "                    emotion_label = 'Surprise'\n",
    "                else:\n",
    "                    emotion_label = 'Neutral'\n",
    "                # Add the predicted emotion to the list\n",
    "                emotions.append(emotion_label)\n",
    "            # Display the captured image with bounding boxes around the detected faces\n",
    "            for (x, y, w, h) in faces:\n",
    "                cv2.rectangle(frame, (x, y), (x + w, y + h), (0, 255, 0), 2)\n",
    "            cv2.imshow('captured_image', frame)\n",
    "            print(emotions)\n",
    "    # Release the video capture object and close all windows\n",
    "    cap.release()"
   ]
  },
  {
   "cell_type": "code",
   "execution_count": 6,
   "id": "9ea3ef7e",
   "metadata": {},
   "outputs": [
    {
     "name": "stdout",
     "output_type": "stream",
     "text": [
      "1/1 [==============================] - 0s 469ms/step\n",
      "['Surprise']\n"
     ]
    }
   ],
   "source": [
    "get_image()"
   ]
  },
  {
   "cell_type": "code",
   "execution_count": null,
   "id": "1c8fa353",
   "metadata": {},
   "outputs": [],
   "source": []
  }
 ],
 "metadata": {
  "kernelspec": {
   "display_name": "Python 3 (ipykernel)",
   "language": "python",
   "name": "python3"
  },
  "language_info": {
   "codemirror_mode": {
    "name": "ipython",
    "version": 3
   },
   "file_extension": ".py",
   "mimetype": "text/x-python",
   "name": "python",
   "nbconvert_exporter": "python",
   "pygments_lexer": "ipython3",
   "version": "3.9.13"
  }
 },
 "nbformat": 4,
 "nbformat_minor": 5
}
